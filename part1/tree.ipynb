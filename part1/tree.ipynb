{
 "cells": [
  {
   "cell_type": "code",
   "execution_count": null,
   "metadata": {
    "collapsed": true
   },
   "outputs": [],
   "source": [
    "import pandas as pd\n",
    "d=pd.read_csv('game.csv')\n",
    "print(d)\n",
    "dat=d.drop([\"Outcome \"],axis=1)\n",
    "dat=dat.values\n",
    "print(dat)\n",
    "for i in range(dat.shape[0]):\n",
    "    if dat[i,0]==\"Morning\":\n",
    "        dat[i,0]=0\n",
    "    if dat[i,0]==\"Afternoon\":\n",
    "        dat[i,0]=1\n",
    "    if dat[i,1]==\"Master\":\n",
    "        dat[i,1]=0\n",
    "    if dat[i,1]==\"Grand slam\":\n",
    "        dat[i,1]=1\n",
    "    if dat[i,2]==\"Grass\":\n",
    "        dat[i,2]=0\n",
    "    if dat[i,2]==\"Clay\":\n",
    "        dat[i,2]=1\n",
    "    if dat[i,2]==\"Hard\":\n",
    "        dat[i,2]=2\n",
    "    \n",
    "    \n",
    "\n"
   ]
  },
  {
   "cell_type": "code",
   "execution_count": null,
   "metadata": {
    "collapsed": true
   },
   "outputs": [],
   "source": [
    "from sklearn.ensemble import RandomForestClassifier\n",
    "model=RandomForestClassifier(max_depth=3,n_estimators=10,criterion='entropy')\n",
    "model.fit(dat,pu)\n",
    "estimator_limited=model.estimators_[5]\n",
    "estimator_limited"
   ]
  },
  {
   "cell_type": "code",
   "execution_count": null,
   "metadata": {
    "collapsed": true
   },
   "outputs": [],
   "source": [
    "from sklearn.tree import export_graphviz\n",
    "export_graphviz(estimator_limited, out_file='des.dot',\n",
    "                rounded = True, proportion = False, precision = 2, filled = True)\n"
   ]
  },
  {
   "cell_type": "code",
   "execution_count": null,
   "metadata": {
    "collapsed": true
   },
   "outputs": [],
   "source": [
    "!dot -Tpng des.dot -o des.png -Gdpi=600\n",
    "\n"
   ]
  },
  {
   "cell_type": "code",
   "execution_count": null,
   "metadata": {
    "collapsed": true
   },
   "outputs": [],
   "source": [
    "from IPython.display import Image\n",
    "Image(filename = 'des.png')"
   ]
  }
 ],
 "metadata": {
  "kernelspec": {
   "display_name": "Python 3",
   "language": "python",
   "name": "python3"
  },
  "language_info": {
   "codemirror_mode": {
    "name": "ipython",
    "version": 3
   },
   "file_extension": ".py",
   "mimetype": "text/x-python",
   "name": "python",
   "nbconvert_exporter": "python",
   "pygments_lexer": "ipython3",
   "version": "3.6.8"
  }
 },
 "nbformat": 4,
 "nbformat_minor": 2
}
