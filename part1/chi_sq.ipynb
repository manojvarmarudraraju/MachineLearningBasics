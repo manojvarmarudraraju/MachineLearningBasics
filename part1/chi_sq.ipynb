{
  "metadata": {
    "kernelspec": {
      "display_name": "Python 3.6",
      "name": "python36",
      "language": "python"
    },
    "language_info": {
      "mimetype": "text/x-python",
      "nbconvert_exporter": "python",
      "name": "python",
      "pygments_lexer": "ipython3",
      "version": "3.6.6",
      "file_extension": ".py",
      "codemirror_mode": {
        "version": 3,
        "name": "ipython"
      }
    }
  },
  "nbformat_minor": 2,
  "nbformat": 4,
  "cells": [
    {
      "cell_type": "code",
      "source": "import pandas as pd\n\ndata = pd.read_csv('reading_material_poll.csv')\n\ndata",
      "metadata": {
        "collapsed": true,
        "trusted": true
      },
      "execution_count": 2,
      "outputs": [
        {
          "execution_count": 2,
          "output_type": "execute_result",
          "data": {
            "text/html": "<div>\n<style scoped>\n    .dataframe tbody tr th:only-of-type {\n        vertical-align: middle;\n    }\n\n    .dataframe tbody tr th {\n        vertical-align: top;\n    }\n\n    .dataframe thead th {\n        text-align: right;\n    }\n</style>\n<table border=\"1\" class=\"dataframe\">\n  <thead>\n    <tr style=\"text-align: right;\">\n      <th></th>\n      <th>Unnamed: 0</th>\n      <th>male</th>\n      <th>female</th>\n    </tr>\n  </thead>\n  <tbody>\n    <tr>\n      <th>0</th>\n      <td>fiction</td>\n      <td>250</td>\n      <td>200</td>\n    </tr>\n    <tr>\n      <th>1</th>\n      <td>non_fiction</td>\n      <td>50</td>\n      <td>1000</td>\n    </tr>\n  </tbody>\n</table>\n</div>",
            "text/plain": "    Unnamed: 0  male  female\n0      fiction   250     200\n1  non_fiction    50    1000"
          },
          "metadata": {}
        }
      ]
    },
    {
      "cell_type": "code",
      "source": "data.values",
      "metadata": {
        "trusted": true
      },
      "execution_count": 9,
      "outputs": [
        {
          "execution_count": 9,
          "output_type": "execute_result",
          "data": {
            "text/plain": "array([['fiction', 250, 200],\n       ['non_fiction', 50, 1000]], dtype=object)"
          },
          "metadata": {}
        }
      ]
    },
    {
      "cell_type": "code",
      "source": "rows = len(data.values)\ncols = len(data.values[0])-1 # Excluding row names\n\nprint('Total rows: ', rows)\nprint('Total cols: ', cols)",
      "metadata": {
        "trusted": true
      },
      "execution_count": 13,
      "outputs": [
        {
          "text": "Total rows:  2\nTotal cols:  2\n",
          "name": "stdout",
          "output_type": "stream"
        }
      ]
    },
    {
      "cell_type": "code",
      "source": "ith_row_sum = []\nith_col_sum = []\n\nfor i in range(0, rows):\n    val=0\n    for j in range(1, cols+1):\n        val+= data.values[i][j]\n    ith_row_sum.append(val)\n    \nfor i in range(1, cols+1):\n    val=0\n    for j in range(0, rows):\n        val+= data.values[j][i]\n    ith_col_sum.append(val)\n    \nprint('# Row sum')\nprint('Fiction: ', ith_row_sum[0])\nprint('Non-Fiction: ', ith_row_sum[1])\n\nprint('\\n# Column sum')\nprint('Male: ', ith_col_sum[0])\nprint('Female: ', ith_col_sum[1])",
      "metadata": {
        "trusted": true
      },
      "execution_count": 20,
      "outputs": [
        {
          "text": "# Row sum\nFiction:  450\nNon-Fiction:  1050\n\n# Column sum\nMale:  300\nFemale:  1200\n",
          "name": "stdout",
          "output_type": "stream"
        }
      ]
    },
    {
      "cell_type": "code",
      "source": "total_sum = sum(ith_row_sum) # or sum(ith_col_sum)\ntotal_sum",
      "metadata": {
        "trusted": true
      },
      "execution_count": 24,
      "outputs": [
        {
          "execution_count": 24,
          "output_type": "execute_result",
          "data": {
            "text/plain": "1500"
          },
          "metadata": {}
        }
      ]
    },
    {
      "cell_type": "code",
      "source": "observed = []\nfor i in range(0, rows):\n    l = []\n    for j in range(1, cols+1):\n        l.append(data.values[i][j])\n    observed.append(l)\n    \nobserved",
      "metadata": {
        "trusted": true
      },
      "execution_count": 25,
      "outputs": [
        {
          "execution_count": 25,
          "output_type": "execute_result",
          "data": {
            "text/plain": "[[250, 200], [50, 1000]]"
          },
          "metadata": {}
        }
      ]
    },
    {
      "cell_type": "code",
      "source": "expected = []\nfor i in range(0, rows):\n    l = []\n    for j in range(0, cols):\n        l.append((ith_row_sum[i]*ith_col_sum[j])/total_sum)\n    expected.append(l)\n    \nexpected",
      "metadata": {
        "trusted": true
      },
      "execution_count": 26,
      "outputs": [
        {
          "execution_count": 26,
          "output_type": "execute_result",
          "data": {
            "text/plain": "[[90.0, 360.0], [210.0, 840.0]]"
          },
          "metadata": {}
        }
      ]
    },
    {
      "cell_type": "code",
      "source": "chi_sq = 0\nfor i in range(0, rows):\n    for j in range(0, cols):\n        chi_sq+= ((observed[i][j]-expected[i][j])**2)/expected[i][j]\n\nchi_sq = round(chi_sq, 2)\nchi_sq",
      "metadata": {
        "trusted": true
      },
      "execution_count": 35,
      "outputs": [
        {
          "execution_count": 35,
          "output_type": "execute_result",
          "data": {
            "text/plain": "507.94"
          },
          "metadata": {}
        }
      ]
    },
    {
      "cell_type": "code",
      "source": "degree_of_freedom = (rows-1)*(cols-1)\ndegree_of_freedom",
      "metadata": {
        "trusted": true
      },
      "execution_count": 36,
      "outputs": [
        {
          "execution_count": 36,
          "output_type": "execute_result",
          "data": {
            "text/plain": "1"
          },
          "metadata": {}
        }
      ]
    }
  ]
}