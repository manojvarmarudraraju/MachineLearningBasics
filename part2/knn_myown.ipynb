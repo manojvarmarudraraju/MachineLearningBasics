{
  "cells": [
    {
      "metadata": {
        "trusted": true
      },
      "cell_type": "code",
      "source": "import pandas as pd\nimport numpy as np\nfrom collections import Counter",
      "execution_count": 26,
      "outputs": []
    },
    {
      "metadata": {
        "trusted": true
      },
      "cell_type": "code",
      "source": "data1=pd.read_csv(\"heartattack.csv\")",
      "execution_count": 27,
      "outputs": []
    },
    {
      "metadata": {
        "trusted": true
      },
      "cell_type": "code",
      "source": "from sklearn import preprocessing\n\nx = data.values #returns a numpy array\nmin_max_scaler = preprocessing.MinMaxScaler()\nx_scaled = min_max_scaler.fit_transform(x)\ndata = pd.DataFrame(x_scaled)\ndata.head(10)",
      "execution_count": 3,
      "outputs": [
        {
          "output_type": "execute_result",
          "execution_count": 3,
          "data": {
            "text/html": "<div>\n<style scoped>\n    .dataframe tbody tr th:only-of-type {\n        vertical-align: middle;\n    }\n\n    .dataframe tbody tr th {\n        vertical-align: top;\n    }\n\n    .dataframe thead th {\n        text-align: right;\n    }\n</style>\n<table border=\"1\" class=\"dataframe\">\n  <thead>\n    <tr style=\"text-align: right;\">\n      <th></th>\n      <th>0</th>\n      <th>1</th>\n      <th>2</th>\n      <th>3</th>\n      <th>4</th>\n      <th>5</th>\n      <th>6</th>\n      <th>7</th>\n      <th>8</th>\n      <th>9</th>\n      <th>10</th>\n      <th>11</th>\n      <th>12</th>\n      <th>13</th>\n    </tr>\n  </thead>\n  <tbody>\n    <tr>\n      <th>0</th>\n      <td>0.708333</td>\n      <td>1.0</td>\n      <td>1.000000</td>\n      <td>0.481132</td>\n      <td>0.244292</td>\n      <td>1.0</td>\n      <td>0.0</td>\n      <td>0.603053</td>\n      <td>0.0</td>\n      <td>0.370968</td>\n      <td>0.0</td>\n      <td>0.0</td>\n      <td>0.333333</td>\n      <td>1.0</td>\n    </tr>\n    <tr>\n      <th>1</th>\n      <td>0.166667</td>\n      <td>1.0</td>\n      <td>0.666667</td>\n      <td>0.339623</td>\n      <td>0.283105</td>\n      <td>0.0</td>\n      <td>0.5</td>\n      <td>0.885496</td>\n      <td>0.0</td>\n      <td>0.564516</td>\n      <td>0.0</td>\n      <td>0.0</td>\n      <td>0.666667</td>\n      <td>1.0</td>\n    </tr>\n    <tr>\n      <th>2</th>\n      <td>0.250000</td>\n      <td>0.0</td>\n      <td>0.333333</td>\n      <td>0.339623</td>\n      <td>0.178082</td>\n      <td>0.0</td>\n      <td>0.0</td>\n      <td>0.770992</td>\n      <td>0.0</td>\n      <td>0.225806</td>\n      <td>1.0</td>\n      <td>0.0</td>\n      <td>0.666667</td>\n      <td>1.0</td>\n    </tr>\n    <tr>\n      <th>3</th>\n      <td>0.562500</td>\n      <td>1.0</td>\n      <td>0.333333</td>\n      <td>0.245283</td>\n      <td>0.251142</td>\n      <td>0.0</td>\n      <td>0.5</td>\n      <td>0.816794</td>\n      <td>0.0</td>\n      <td>0.129032</td>\n      <td>1.0</td>\n      <td>0.0</td>\n      <td>0.666667</td>\n      <td>1.0</td>\n    </tr>\n    <tr>\n      <th>4</th>\n      <td>0.583333</td>\n      <td>0.0</td>\n      <td>0.000000</td>\n      <td>0.245283</td>\n      <td>0.520548</td>\n      <td>0.0</td>\n      <td>0.5</td>\n      <td>0.702290</td>\n      <td>1.0</td>\n      <td>0.096774</td>\n      <td>1.0</td>\n      <td>0.0</td>\n      <td>0.666667</td>\n      <td>1.0</td>\n    </tr>\n    <tr>\n      <th>5</th>\n      <td>0.583333</td>\n      <td>1.0</td>\n      <td>0.000000</td>\n      <td>0.433962</td>\n      <td>0.150685</td>\n      <td>0.0</td>\n      <td>0.5</td>\n      <td>0.587786</td>\n      <td>0.0</td>\n      <td>0.064516</td>\n      <td>0.5</td>\n      <td>0.0</td>\n      <td>0.333333</td>\n      <td>1.0</td>\n    </tr>\n    <tr>\n      <th>6</th>\n      <td>0.562500</td>\n      <td>0.0</td>\n      <td>0.333333</td>\n      <td>0.433962</td>\n      <td>0.383562</td>\n      <td>0.0</td>\n      <td>0.0</td>\n      <td>0.625954</td>\n      <td>0.0</td>\n      <td>0.209677</td>\n      <td>0.5</td>\n      <td>0.0</td>\n      <td>0.666667</td>\n      <td>1.0</td>\n    </tr>\n    <tr>\n      <th>7</th>\n      <td>0.312500</td>\n      <td>1.0</td>\n      <td>0.333333</td>\n      <td>0.245283</td>\n      <td>0.312785</td>\n      <td>0.0</td>\n      <td>0.5</td>\n      <td>0.778626</td>\n      <td>0.0</td>\n      <td>0.000000</td>\n      <td>1.0</td>\n      <td>0.0</td>\n      <td>1.000000</td>\n      <td>1.0</td>\n    </tr>\n    <tr>\n      <th>8</th>\n      <td>0.479167</td>\n      <td>1.0</td>\n      <td>0.666667</td>\n      <td>0.735849</td>\n      <td>0.166667</td>\n      <td>1.0</td>\n      <td>0.5</td>\n      <td>0.694656</td>\n      <td>0.0</td>\n      <td>0.080645</td>\n      <td>1.0</td>\n      <td>0.0</td>\n      <td>1.000000</td>\n      <td>1.0</td>\n    </tr>\n    <tr>\n      <th>9</th>\n      <td>0.583333</td>\n      <td>1.0</td>\n      <td>0.666667</td>\n      <td>0.528302</td>\n      <td>0.095890</td>\n      <td>0.0</td>\n      <td>0.5</td>\n      <td>0.786260</td>\n      <td>0.0</td>\n      <td>0.258065</td>\n      <td>1.0</td>\n      <td>0.0</td>\n      <td>0.666667</td>\n      <td>1.0</td>\n    </tr>\n  </tbody>\n</table>\n</div>",
            "text/plain": "         0    1         2         3         4    5    6         7    8   \\\n0  0.708333  1.0  1.000000  0.481132  0.244292  1.0  0.0  0.603053  0.0   \n1  0.166667  1.0  0.666667  0.339623  0.283105  0.0  0.5  0.885496  0.0   \n2  0.250000  0.0  0.333333  0.339623  0.178082  0.0  0.0  0.770992  0.0   \n3  0.562500  1.0  0.333333  0.245283  0.251142  0.0  0.5  0.816794  0.0   \n4  0.583333  0.0  0.000000  0.245283  0.520548  0.0  0.5  0.702290  1.0   \n5  0.583333  1.0  0.000000  0.433962  0.150685  0.0  0.5  0.587786  0.0   \n6  0.562500  0.0  0.333333  0.433962  0.383562  0.0  0.0  0.625954  0.0   \n7  0.312500  1.0  0.333333  0.245283  0.312785  0.0  0.5  0.778626  0.0   \n8  0.479167  1.0  0.666667  0.735849  0.166667  1.0  0.5  0.694656  0.0   \n9  0.583333  1.0  0.666667  0.528302  0.095890  0.0  0.5  0.786260  0.0   \n\n         9    10   11        12   13  \n0  0.370968  0.0  0.0  0.333333  1.0  \n1  0.564516  0.0  0.0  0.666667  1.0  \n2  0.225806  1.0  0.0  0.666667  1.0  \n3  0.129032  1.0  0.0  0.666667  1.0  \n4  0.096774  1.0  0.0  0.666667  1.0  \n5  0.064516  0.5  0.0  0.333333  1.0  \n6  0.209677  0.5  0.0  0.666667  1.0  \n7  0.000000  1.0  0.0  1.000000  1.0  \n8  0.080645  1.0  0.0  1.000000  1.0  \n9  0.258065  1.0  0.0  0.666667  1.0  "
          },
          "metadata": {}
        }
      ]
    },
    {
      "metadata": {
        "trusted": true
      },
      "cell_type": "code",
      "source": "import math\ndef euclidean_dist(a,b):\n    dist=sum([(a[i]-b[i])**2 for i in range(len(a))])\n    return math.sqrt(dist)\n\n\na=input().split(\",\")\na=list(map(float,a))\nmat=data1.iloc[:,:13].values\nal=[]\nfor i in range(len(mat)):\n    al.append(euclidean_dist(mat[i],a))\nd=pd.DataFrame(al,columns=['dist'])\ndata=pd.concat([data,d],axis=0)\ndata.sort_values(\"dist\", axis = 0, ascending = True, inplace = True)\np=int(input())\nl=data.head(p)\nprint(l.index)\nfi=[]\nfor i in l.index:\n    fi.append(data1.iloc[i,13])\n",
      "execution_count": 28,
      "outputs": [
        {
          "output_type": "stream",
          "name": "stdout",
          "text": "37,1,2,130,250,0,1,187,0,3.5,0,0,2\n"
        },
        {
          "output_type": "stream",
          "text": "/home/nbuser/anaconda3_501/lib/python3.6/site-packages/ipykernel/__main__.py:14: FutureWarning: Sorting because non-concatenation axis is not aligned. A future version\nof pandas will change to not sort by default.\n\nTo accept the future behavior, pass 'sort=False'.\n\nTo retain the current behavior and silence the warning, pass 'sort=True'.\n\n",
          "name": "stderr"
        },
        {
          "output_type": "stream",
          "name": "stdout",
          "text": "5\nInt64Index([1, 1, 1, 1, 1], dtype='int64')\n"
        }
      ]
    },
    {
      "metadata": {
        "trusted": true
      },
      "cell_type": "code",
      "source": "b={}\nfor i in fi:\n    if i in b:\n        b[i]+=1\n    else:\n        b.update({i:1})\n\nma=0\noutput=0\nfor i in b:\n    if ma<b[i]:\n        ma=b[i]\n        output=i\nif output==1:\n    print(\"Heart Attack on the way\")\nelse:\n    print(\"Ur Safe\")",
      "execution_count": 30,
      "outputs": [
        {
          "output_type": "stream",
          "text": "Heart Attack on the way\n",
          "name": "stdout"
        }
      ]
    }
  ],
  "metadata": {
    "kernelspec": {
      "name": "python36",
      "display_name": "Python 3.6",
      "language": "python"
    },
    "language_info": {
      "mimetype": "text/x-python",
      "nbconvert_exporter": "python",
      "name": "python",
      "pygments_lexer": "ipython3",
      "version": "3.6.6",
      "file_extension": ".py",
      "codemirror_mode": {
        "version": 3,
        "name": "ipython"
      }
    }
  },
  "nbformat": 4,
  "nbformat_minor": 2
}